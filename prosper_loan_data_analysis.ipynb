{
 "cells": [
  {
   "cell_type": "markdown",
   "metadata": {},
   "source": [
    "# Prosper Loan Data Analysis\n",
    "\n",
    "# Deepak Sithu"
   ]
  },
  {
   "cell_type": "markdown",
   "metadata": {},
   "source": [
    "## Table of Contents\n",
    "\n",
    "* <a href=\"#overview\">Overview</a>\n",
    "* <a href=\"#initial\">Initial Exploration</a>\n",
    "* <a href=\"#clean\">Data Cleaning</a>\n",
    "* <a href=\"#univar\">Univariate Exploration</a>\n",
    "* <a href=\"#bivar\">Bivariate Exploration</a>\n",
    "* <a href=\"#multivar\">Multivariate Exploration</a>"
   ]
  },
  {
   "cell_type": "code",
   "execution_count": 1,
   "metadata": {},
   "outputs": [],
   "source": [
    "# import libraries\n",
    "import numpy as np\n",
    "import pandas as pd\n",
    "import matplotlib.pyplot as plt\n",
    "import seaborn as sns\n",
    "import os\n",
    "\n",
    "%matplotlib inline"
   ]
  },
  {
   "cell_type": "markdown",
   "metadata": {},
   "source": [
    "<a id=\"overview\"></a>\n",
    "## Overview"
   ]
  },
  {
   "cell_type": "markdown",
   "metadata": {},
   "source": [
    "> This project is an examination of loan data from Prosper. The data set contains information for \n",
    "\n",
    "> From the guide: This data set contains 113,937 loans with 81 variables on each loan, including loan amount, borrower rate (or interest rate), current loan status, borrower income, and many others. I'm supposed to focus on about 10-15 of the variables. Example questions are, what factors affect a loan's outcome status? What affects the borrower's APR or interest rate? Are there differences between loans depending on how large the original loan amount was?"
   ]
  },
  {
   "cell_type": "code",
   "execution_count": null,
   "metadata": {},
   "outputs": [],
   "source": [
    "# read in dataset\n",
    "prosper_loan = pd.read_csv('prosperLoanData.csv')"
   ]
  },
  {
   "cell_type": "markdown",
   "metadata": {},
   "source": [
    "<a id=\"initial\"></a>\n",
    "## Initial Exploration"
   ]
  },
  {
   "cell_type": "code",
   "execution_count": null,
   "metadata": {},
   "outputs": [],
   "source": [
    "# get shape of dataframe and information for columns\n",
    "print(prosper_loan.shape)\n",
    "prosper_loan.info()"
   ]
  },
  {
   "cell_type": "code",
   "execution_count": null,
   "metadata": {},
   "outputs": [],
   "source": [
    "# descriptions of numeric columns\n",
    "prosper_loan.describe()"
   ]
  },
  {
   "cell_type": "code",
   "execution_count": null,
   "metadata": {},
   "outputs": [],
   "source": [
    "# head of dataframe\n",
    "prosper_loan.head()"
   ]
  },
  {
   "cell_type": "markdown",
   "metadata": {},
   "source": [
    "### What is the structure of the dataset?\n",
    "\n",
    "> The dataset is a series of loans with a large amount of associated data for each. One interesting aspect is that the credit grading system changed in July 2009, so credit ratings are split between the columns CreditGrade and ProsperRating (Alpha). It's clear from the initial exploration into the dataset that, both for ease of use and for the scope of this project it is best to eliminate several of the columns which are not going to be relavent. \n",
    "\n",
    "### What are the main features of interest in the dataset?\n",
    "\n",
    "> The main features of interest are the credit grades, which are split between CreditGrade and ProsperRating (Alpha), the LoanStatus, the BorrowerAPR, and the BorrowerRate. It will be interesting to see what, if any of the other variables in the dataset are correlated with differences in the previously mentioned features. Many of these are features which are  determined by the loan company, and therefore out of the control of the borrower, so seeing the relationship between these and variables which are more borrower-based will provide an insight into what goes into determining the specifics of a loan.\n",
    "\n",
    "### What features in the dataset do you think will help support your investigation into the features of interest?\n",
    "\n",
    "> The features which will be explored to see if they support an investigation into the features of interest are Term, ListingCategory, BorrowerState, EmploymentStatus, IsBorrowerHomeowner, OpenCreditLines, TotalCreditLinespast7years, DebtToIncomeRatio, and IncomeRange."
   ]
  },
  {
   "cell_type": "markdown",
   "metadata": {},
   "source": [
    "<a id=\"clean\"></a>\n",
    "## Data Cleaning"
   ]
  },
  {
   "cell_type": "markdown",
   "metadata": {},
   "source": [
    "### Issues\n",
    "* There are several columns in the dataset which are unnecessary or outside of the scope of this project.\n",
    "* The column name ProsperRating (Alpha) affects ease of use of the dataset.\n",
    "* The column ListingCategory (numeric) only has numeric values representing each listing type, but it would be more meaningful to include the actual listing types.\n",
    "* The credit rating is split between the columns CreditGrade and ProsperRating, but would be useful as a single column, CreditRating."
   ]
  },
  {
   "cell_type": "markdown",
   "metadata": {},
   "source": [
    "#### Issue: There are several columns in the dataset which are unnecessary or outside of the scope of this project."
   ]
  },
  {
   "cell_type": "code",
   "execution_count": null,
   "metadata": {},
   "outputs": [],
   "source": [
    "# create a copy of the dataframe with only columns the of interest and confirm change\n",
    "prosper_clean = prosper_loan[['ListingKey', 'CreditGrade', 'Term', 'LoanStatus', 'BorrowerAPR', 'BorrowerRate', 'ProsperRating (Alpha)', 'ListingCategory (numeric)', 'BorrowerState', 'EmploymentStatus', 'IsBorrowerHomeowner', 'OpenCreditLines', 'TotalCreditLinespast7years', 'DebtToIncomeRatio', 'IncomeRange']].copy()\n",
    "print(prosper_clean.shape)\n",
    "prosper_clean.head()"
   ]
  },
  {
   "cell_type": "markdown",
   "metadata": {},
   "source": [
    "#### Issue: The column name ProsperRating (Alpha) affects ease of use of the dataset."
   ]
  },
  {
   "cell_type": "code",
   "execution_count": null,
   "metadata": {},
   "outputs": [],
   "source": [
    "# rename ProsperRating (Alpha) and confirm change\n",
    "prosper_clean = prosper_clean.rename(columns={'ProsperRating (Alpha)' : 'ProsperRating'});\n",
    "prosper_clean.head()"
   ]
  },
  {
   "cell_type": "markdown",
   "metadata": {},
   "source": [
    "#### Issue: The column ListingCategory (numeric) only has numeric values representing each listing type, but it would be more meaningful to include the actual listing types."
   ]
  },
  {
   "cell_type": "code",
   "execution_count": null,
   "metadata": {},
   "outputs": [],
   "source": [
    "# create empty column ListingCategory to replace ListingCategory (numeric)\n",
    "prosper_clean['ListingCategory'] = \"\""
   ]
  },
  {
   "cell_type": "code",
   "execution_count": null,
   "metadata": {},
   "outputs": [],
   "source": [
    "# loop through dataset to fill ListingCategory based on ListingCategory (numeric)\n",
    "for i in range(len(prosper_clean)):\n",
    "    num = prosper_clean['ListingCategory (numeric)'][i]\n",
    "    if num == 0:\n",
    "        prosper_clean.at[i, 'ListingCategory'] = 'Not Available'\n",
    "    elif num == 1:\n",
    "        prosper_clean.at[i, 'ListingCategory'] = 'Debt Consolidation'\n",
    "    elif num == 2:\n",
    "        prosper_clean.at[i, 'ListingCategory'] = 'Home Improvement'\n",
    "    elif num == 3:\n",
    "        prosper_clean.at[i, 'ListingCategory'] = 'Business'\n",
    "    elif num == 4:\n",
    "        prosper_clean.at[i, 'ListingCategory'] = 'Personal Loan'\n",
    "    elif num == 5:\n",
    "        prosper_clean.at[i, 'ListingCategory'] = 'Student Use'\n",
    "    elif num == 6:\n",
    "        prosper_clean.at[i, 'ListingCategory'] = 'Auto'\n",
    "    elif num == 7:\n",
    "        prosper_clean.at[i, 'ListingCategory'] = 'Other'\n",
    "    elif num == 8:\n",
    "        prosper_clean.at[i, 'ListingCategory'] = 'Baby/Adoption'\n",
    "    elif num == 9:\n",
    "        prosper_clean.at[i, 'ListingCategory'] = 'Boat'\n",
    "    elif num == 10:\n",
    "        prosper_clean.at[i, 'ListingCategory'] = 'Cosmetic Procedure'\n",
    "    elif num == 11:\n",
    "        prosper_clean.at[i, 'ListingCategory'] = 'Engagement Ring'\n",
    "    elif num == 12:\n",
    "        prosper_clean.at[i, 'ListingCategory'] = 'Green Loans'\n",
    "    elif num == 13:\n",
    "        prosper_clean.at[i, 'ListingCategory'] = 'Household Expenses'\n",
    "    elif num == 14:\n",
    "        prosper_clean.at[i, 'ListingCategory'] = 'Large Purchases'\n",
    "    elif num == 15:\n",
    "        prosper_clean.at[i, 'ListingCategory'] = 'Medical/Dental'\n",
    "    elif num == 16:\n",
    "        prosper_clean.at[i, 'ListingCategory'] = 'Motorcycle'\n",
    "    elif num == 17:\n",
    "        prosper_clean.at[i, 'ListingCategory'] = 'RV'\n",
    "    elif num == 18:\n",
    "        prosper_clean.at[i, 'ListingCategory'] = 'Taxes'\n",
    "    elif num == 19:\n",
    "        prosper_clean.at[i, 'ListingCategory'] = 'Vacation'\n",
    "    else:\n",
    "        prosper_clean.at[i, 'ListingCategory'] = 'Wedding Loans'"
   ]
  },
  {
   "cell_type": "code",
   "execution_count": null,
   "metadata": {
    "scrolled": true
   },
   "outputs": [],
   "source": [
    "# remove ListingCategory (numeric) from clean dataframe and confirm changes\n",
    "prosper_clean = prosper_clean.drop('ListingCategory (numeric)', axis = 1)\n",
    "prosper_clean.head()"
   ]
  },
  {
   "cell_type": "markdown",
   "metadata": {},
   "source": [
    "#### Issue: The credit rating is split between the columns CreditGrade and ProsperRating, but would be useful as a single column, CreditRating."
   ]
  },
  {
   "cell_type": "code",
   "execution_count": null,
   "metadata": {},
   "outputs": [],
   "source": [
    "# create two lists of the ListingKeys for non-null values for CreditGrade and ProsperRating\n",
    "credit_grade_keys = prosper_clean.ListingKey[prosper_clean['CreditGrade'].notnull()].tolist();\n",
    "prosper_rating_keys = prosper_clean.ListingKey[prosper_clean['ProsperRating'].notnull()].tolist();"
   ]
  },
  {
   "cell_type": "code",
   "execution_count": null,
   "metadata": {},
   "outputs": [],
   "source": [
    "# use python in and loop to check if any value in credit_grade_list is in prosper_rating_list\n",
    "double_rating_keys = []\n",
    "for i in range(len(credit_grade_keys)):\n",
    "    if credit_grade_keys[i] in prosper_rating_keys:\n",
    "        double_rating_keys.append(credit_grade_keys[i])\n",
    "        print(credit_grade_keys[i])"
   ]
  },
  {
   "cell_type": "code",
   "execution_count": null,
   "metadata": {},
   "outputs": [],
   "source": [
    "# confirm double_rating_keys is empty\n",
    "double_rating_keys"
   ]
  },
  {
   "cell_type": "code",
   "execution_count": null,
   "metadata": {},
   "outputs": [],
   "source": [
    "# create empty CreditRating column to be filled by CreditGrade and ProsperRating\n",
    "prosper_clean['CreditRating'] = \"\" "
   ]
  },
  {
   "cell_type": "code",
   "execution_count": null,
   "metadata": {},
   "outputs": [],
   "source": [
    "# loop to fill CreditRating for CreditGrade values\n",
    "for i in range(len(credit_grade_keys)):\n",
    "    listing_row = (prosper_clean[prosper_clean['ListingKey'] == credit_grade_keys[i]])\n",
    "    index = int(listing_row.index.values)\n",
    "    prosper_clean.at[index, 'CreditRating'] = listing_row.CreditGrade.values[0]"
   ]
  },
  {
   "cell_type": "code",
   "execution_count": null,
   "metadata": {},
   "outputs": [],
   "source": [
    "# loop to fill CreditRating for ProsperRating values\n",
    "for i in range(len(prosper_rating_keys)):\n",
    "    listing_row = (prosper_clean[prosper_clean['ListingKey'] == prosper_rating_keys[i]])\n",
    "    index = int(listing_row.index.values[0:1])\n",
    "    prosper_clean.at[index, 'CreditRating'] = listing_row.ProsperRating.values[0]"
   ]
  },
  {
   "cell_type": "code",
   "execution_count": null,
   "metadata": {},
   "outputs": [],
   "source": [
    "# fill in empty CreditRatings as NC and confirm change\n",
    "prosper_clean.CreditRating = prosper_clean.CreditRating.replace('', 'NC');\n",
    "prosper_clean.head()"
   ]
  },
  {
   "cell_type": "markdown",
   "metadata": {},
   "source": [
    "### Storing"
   ]
  },
  {
   "cell_type": "code",
   "execution_count": null,
   "metadata": {},
   "outputs": [],
   "source": [
    "# create cleaned file if it doesn't already exist\n",
    "if not os.path.exists('prosper_clean.csv'):\n",
    "    prosper_clean.to_csv('prosper_clean.csv', index = False)"
   ]
  },
  {
   "cell_type": "markdown",
   "metadata": {},
   "source": [
    "### Finalizing Dataset"
   ]
  },
  {
   "cell_type": "code",
   "execution_count": 2,
   "metadata": {},
   "outputs": [],
   "source": [
    "# read in cleaned dataset\n",
    "prosper = pd.read_csv('prosper_clean.csv')"
   ]
  },
  {
   "cell_type": "code",
   "execution_count": 3,
   "metadata": {},
   "outputs": [
    {
     "name": "stdout",
     "output_type": "stream",
     "text": [
      "<class 'pandas.core.frame.DataFrame'>\n",
      "RangeIndex: 113937 entries, 0 to 113936\n",
      "Data columns (total 16 columns):\n",
      "ListingKey                    113937 non-null object\n",
      "CreditGrade                   28953 non-null category\n",
      "Term                          113937 non-null int64\n",
      "LoanStatus                    113937 non-null object\n",
      "BorrowerAPR                   113912 non-null float64\n",
      "BorrowerRate                  113937 non-null float64\n",
      "ProsperRating                 84853 non-null category\n",
      "BorrowerState                 108422 non-null object\n",
      "EmploymentStatus              111682 non-null object\n",
      "IsBorrowerHomeowner           113937 non-null bool\n",
      "OpenCreditLines               106333 non-null float64\n",
      "TotalCreditLinespast7years    113240 non-null float64\n",
      "DebtToIncomeRatio             105383 non-null float64\n",
      "IncomeRange                   113937 non-null category\n",
      "ListingCategory               113937 non-null object\n",
      "CreditRating                  113937 non-null category\n",
      "dtypes: bool(1), category(4), float64(5), int64(1), object(5)\n",
      "memory usage: 10.1+ MB\n"
     ]
    }
   ],
   "source": [
    "# turn CreditGrade, ProsperRating, IncomeRange, and CreditRating into ordered categorical type variables and confirm change\n",
    "ordinal_var_dict = {'CreditGrade': ['NC', 'HR', 'E', 'D', 'C', 'B', 'A', 'AA'], \n",
    "                   'ProsperRating': ['HR', 'E', 'D', 'C', 'B', 'A', 'AA'],\n",
    "                   'IncomeRange': ['Not displayed', 'Not employed', '$0', '$1-24,999', '$25,000-49,999', '$50,000-74,999', '$75,000-99,999', '$100,000+'],\n",
    "                   'CreditRating': ['NC', 'HR', 'E', 'D', 'C', 'B', 'A', 'AA']}\n",
    "\n",
    "for var in ordinal_var_dict:\n",
    "    ordered_var = pd.api.types.CategoricalDtype(ordered = True, \n",
    "                                               categories = ordinal_var_dict[var])\n",
    "    prosper[var] = prosper[var].astype(ordered_var)\n",
    "    \n",
    "prosper.info()"
   ]
  },
  {
   "cell_type": "code",
   "execution_count": 4,
   "metadata": {},
   "outputs": [
    {
     "data": {
      "text/html": [
       "<div>\n",
       "<style scoped>\n",
       "    .dataframe tbody tr th:only-of-type {\n",
       "        vertical-align: middle;\n",
       "    }\n",
       "\n",
       "    .dataframe tbody tr th {\n",
       "        vertical-align: top;\n",
       "    }\n",
       "\n",
       "    .dataframe thead th {\n",
       "        text-align: right;\n",
       "    }\n",
       "</style>\n",
       "<table border=\"1\" class=\"dataframe\">\n",
       "  <thead>\n",
       "    <tr style=\"text-align: right;\">\n",
       "      <th></th>\n",
       "      <th>Term</th>\n",
       "      <th>BorrowerAPR</th>\n",
       "      <th>BorrowerRate</th>\n",
       "      <th>OpenCreditLines</th>\n",
       "      <th>TotalCreditLinespast7years</th>\n",
       "      <th>DebtToIncomeRatio</th>\n",
       "    </tr>\n",
       "  </thead>\n",
       "  <tbody>\n",
       "    <tr>\n",
       "      <th>count</th>\n",
       "      <td>113937.000000</td>\n",
       "      <td>113912.000000</td>\n",
       "      <td>113937.000000</td>\n",
       "      <td>106333.000000</td>\n",
       "      <td>113240.000000</td>\n",
       "      <td>105383.000000</td>\n",
       "    </tr>\n",
       "    <tr>\n",
       "      <th>mean</th>\n",
       "      <td>40.830248</td>\n",
       "      <td>0.218828</td>\n",
       "      <td>0.192764</td>\n",
       "      <td>9.260164</td>\n",
       "      <td>26.754539</td>\n",
       "      <td>0.275947</td>\n",
       "    </tr>\n",
       "    <tr>\n",
       "      <th>std</th>\n",
       "      <td>10.436212</td>\n",
       "      <td>0.080364</td>\n",
       "      <td>0.074818</td>\n",
       "      <td>5.022644</td>\n",
       "      <td>13.637871</td>\n",
       "      <td>0.551759</td>\n",
       "    </tr>\n",
       "    <tr>\n",
       "      <th>min</th>\n",
       "      <td>12.000000</td>\n",
       "      <td>0.006530</td>\n",
       "      <td>0.000000</td>\n",
       "      <td>0.000000</td>\n",
       "      <td>2.000000</td>\n",
       "      <td>0.000000</td>\n",
       "    </tr>\n",
       "    <tr>\n",
       "      <th>25%</th>\n",
       "      <td>36.000000</td>\n",
       "      <td>0.156290</td>\n",
       "      <td>0.134000</td>\n",
       "      <td>6.000000</td>\n",
       "      <td>17.000000</td>\n",
       "      <td>0.140000</td>\n",
       "    </tr>\n",
       "    <tr>\n",
       "      <th>50%</th>\n",
       "      <td>36.000000</td>\n",
       "      <td>0.209760</td>\n",
       "      <td>0.184000</td>\n",
       "      <td>9.000000</td>\n",
       "      <td>25.000000</td>\n",
       "      <td>0.220000</td>\n",
       "    </tr>\n",
       "    <tr>\n",
       "      <th>75%</th>\n",
       "      <td>36.000000</td>\n",
       "      <td>0.283810</td>\n",
       "      <td>0.250000</td>\n",
       "      <td>12.000000</td>\n",
       "      <td>35.000000</td>\n",
       "      <td>0.320000</td>\n",
       "    </tr>\n",
       "    <tr>\n",
       "      <th>max</th>\n",
       "      <td>60.000000</td>\n",
       "      <td>0.512290</td>\n",
       "      <td>0.497500</td>\n",
       "      <td>54.000000</td>\n",
       "      <td>136.000000</td>\n",
       "      <td>10.010000</td>\n",
       "    </tr>\n",
       "  </tbody>\n",
       "</table>\n",
       "</div>"
      ],
      "text/plain": [
       "                Term    BorrowerAPR   BorrowerRate  OpenCreditLines  \\\n",
       "count  113937.000000  113912.000000  113937.000000    106333.000000   \n",
       "mean       40.830248       0.218828       0.192764         9.260164   \n",
       "std        10.436212       0.080364       0.074818         5.022644   \n",
       "min        12.000000       0.006530       0.000000         0.000000   \n",
       "25%        36.000000       0.156290       0.134000         6.000000   \n",
       "50%        36.000000       0.209760       0.184000         9.000000   \n",
       "75%        36.000000       0.283810       0.250000        12.000000   \n",
       "max        60.000000       0.512290       0.497500        54.000000   \n",
       "\n",
       "       TotalCreditLinespast7years  DebtToIncomeRatio  \n",
       "count               113240.000000      105383.000000  \n",
       "mean                    26.754539           0.275947  \n",
       "std                     13.637871           0.551759  \n",
       "min                      2.000000           0.000000  \n",
       "25%                     17.000000           0.140000  \n",
       "50%                     25.000000           0.220000  \n",
       "75%                     35.000000           0.320000  \n",
       "max                    136.000000          10.010000  "
      ]
     },
     "execution_count": 4,
     "metadata": {},
     "output_type": "execute_result"
    }
   ],
   "source": [
    "# use describe for additional information on finalized numeric variables\n",
    "prosper.describe()"
   ]
  },
  {
   "cell_type": "code",
   "execution_count": 5,
   "metadata": {},
   "outputs": [
    {
     "name": "stdout",
     "output_type": "stream",
     "text": [
      "(113937, 16)\n"
     ]
    },
    {
     "data": {
      "text/html": [
       "<div>\n",
       "<style scoped>\n",
       "    .dataframe tbody tr th:only-of-type {\n",
       "        vertical-align: middle;\n",
       "    }\n",
       "\n",
       "    .dataframe tbody tr th {\n",
       "        vertical-align: top;\n",
       "    }\n",
       "\n",
       "    .dataframe thead th {\n",
       "        text-align: right;\n",
       "    }\n",
       "</style>\n",
       "<table border=\"1\" class=\"dataframe\">\n",
       "  <thead>\n",
       "    <tr style=\"text-align: right;\">\n",
       "      <th></th>\n",
       "      <th>ListingKey</th>\n",
       "      <th>CreditGrade</th>\n",
       "      <th>Term</th>\n",
       "      <th>LoanStatus</th>\n",
       "      <th>BorrowerAPR</th>\n",
       "      <th>BorrowerRate</th>\n",
       "      <th>ProsperRating</th>\n",
       "      <th>BorrowerState</th>\n",
       "      <th>EmploymentStatus</th>\n",
       "      <th>IsBorrowerHomeowner</th>\n",
       "      <th>OpenCreditLines</th>\n",
       "      <th>TotalCreditLinespast7years</th>\n",
       "      <th>DebtToIncomeRatio</th>\n",
       "      <th>IncomeRange</th>\n",
       "      <th>ListingCategory</th>\n",
       "      <th>CreditRating</th>\n",
       "    </tr>\n",
       "  </thead>\n",
       "  <tbody>\n",
       "    <tr>\n",
       "      <th>0</th>\n",
       "      <td>1021339766868145413AB3B</td>\n",
       "      <td>C</td>\n",
       "      <td>36</td>\n",
       "      <td>Completed</td>\n",
       "      <td>0.16516</td>\n",
       "      <td>0.1580</td>\n",
       "      <td>NaN</td>\n",
       "      <td>CO</td>\n",
       "      <td>Self-employed</td>\n",
       "      <td>True</td>\n",
       "      <td>4.0</td>\n",
       "      <td>12.0</td>\n",
       "      <td>0.17</td>\n",
       "      <td>$25,000-49,999</td>\n",
       "      <td>Not Available</td>\n",
       "      <td>C</td>\n",
       "    </tr>\n",
       "    <tr>\n",
       "      <th>1</th>\n",
       "      <td>10273602499503308B223C1</td>\n",
       "      <td>NaN</td>\n",
       "      <td>36</td>\n",
       "      <td>Current</td>\n",
       "      <td>0.12016</td>\n",
       "      <td>0.0920</td>\n",
       "      <td>A</td>\n",
       "      <td>CO</td>\n",
       "      <td>Employed</td>\n",
       "      <td>False</td>\n",
       "      <td>14.0</td>\n",
       "      <td>29.0</td>\n",
       "      <td>0.18</td>\n",
       "      <td>$50,000-74,999</td>\n",
       "      <td>Home Improvement</td>\n",
       "      <td>A</td>\n",
       "    </tr>\n",
       "    <tr>\n",
       "      <th>2</th>\n",
       "      <td>0EE9337825851032864889A</td>\n",
       "      <td>HR</td>\n",
       "      <td>36</td>\n",
       "      <td>Completed</td>\n",
       "      <td>0.28269</td>\n",
       "      <td>0.2750</td>\n",
       "      <td>NaN</td>\n",
       "      <td>GA</td>\n",
       "      <td>Not available</td>\n",
       "      <td>False</td>\n",
       "      <td>NaN</td>\n",
       "      <td>3.0</td>\n",
       "      <td>0.06</td>\n",
       "      <td>Not displayed</td>\n",
       "      <td>Not Available</td>\n",
       "      <td>HR</td>\n",
       "    </tr>\n",
       "    <tr>\n",
       "      <th>3</th>\n",
       "      <td>0EF5356002482715299901A</td>\n",
       "      <td>NaN</td>\n",
       "      <td>36</td>\n",
       "      <td>Current</td>\n",
       "      <td>0.12528</td>\n",
       "      <td>0.0974</td>\n",
       "      <td>A</td>\n",
       "      <td>GA</td>\n",
       "      <td>Employed</td>\n",
       "      <td>True</td>\n",
       "      <td>5.0</td>\n",
       "      <td>29.0</td>\n",
       "      <td>0.15</td>\n",
       "      <td>$25,000-49,999</td>\n",
       "      <td>Motorcycle</td>\n",
       "      <td>A</td>\n",
       "    </tr>\n",
       "    <tr>\n",
       "      <th>4</th>\n",
       "      <td>0F023589499656230C5E3E2</td>\n",
       "      <td>NaN</td>\n",
       "      <td>36</td>\n",
       "      <td>Current</td>\n",
       "      <td>0.24614</td>\n",
       "      <td>0.2085</td>\n",
       "      <td>D</td>\n",
       "      <td>MN</td>\n",
       "      <td>Employed</td>\n",
       "      <td>True</td>\n",
       "      <td>19.0</td>\n",
       "      <td>49.0</td>\n",
       "      <td>0.26</td>\n",
       "      <td>$100,000+</td>\n",
       "      <td>Home Improvement</td>\n",
       "      <td>D</td>\n",
       "    </tr>\n",
       "  </tbody>\n",
       "</table>\n",
       "</div>"
      ],
      "text/plain": [
       "                ListingKey CreditGrade  Term LoanStatus  BorrowerAPR  \\\n",
       "0  1021339766868145413AB3B           C    36  Completed      0.16516   \n",
       "1  10273602499503308B223C1         NaN    36    Current      0.12016   \n",
       "2  0EE9337825851032864889A          HR    36  Completed      0.28269   \n",
       "3  0EF5356002482715299901A         NaN    36    Current      0.12528   \n",
       "4  0F023589499656230C5E3E2         NaN    36    Current      0.24614   \n",
       "\n",
       "   BorrowerRate ProsperRating BorrowerState EmploymentStatus  \\\n",
       "0        0.1580           NaN            CO    Self-employed   \n",
       "1        0.0920             A            CO         Employed   \n",
       "2        0.2750           NaN            GA    Not available   \n",
       "3        0.0974             A            GA         Employed   \n",
       "4        0.2085             D            MN         Employed   \n",
       "\n",
       "   IsBorrowerHomeowner  OpenCreditLines  TotalCreditLinespast7years  \\\n",
       "0                 True              4.0                        12.0   \n",
       "1                False             14.0                        29.0   \n",
       "2                False              NaN                         3.0   \n",
       "3                 True              5.0                        29.0   \n",
       "4                 True             19.0                        49.0   \n",
       "\n",
       "   DebtToIncomeRatio     IncomeRange   ListingCategory CreditRating  \n",
       "0               0.17  $25,000-49,999     Not Available            C  \n",
       "1               0.18  $50,000-74,999  Home Improvement            A  \n",
       "2               0.06   Not displayed     Not Available           HR  \n",
       "3               0.15  $25,000-49,999        Motorcycle            A  \n",
       "4               0.26       $100,000+  Home Improvement            D  "
      ]
     },
     "execution_count": 5,
     "metadata": {},
     "output_type": "execute_result"
    }
   ],
   "source": [
    "# use shape and head for additional overview information to confirm all changes have been made to cleaned dataset\n",
    "print(prosper.shape)\n",
    "prosper.head()"
   ]
  },
  {
   "cell_type": "markdown",
   "metadata": {},
   "source": [
    "#### Variable Key:\n",
    "* **ListingKey** - A unique key for each listing\n",
    "* **CreditGrade** - The credit rating assigned at the time of listing for listings before July 2009 (then replaced by ProsperRating)\n",
    "* **Term** - The length of the loan in months\n",
    "* **LoanStatus** - The current status of the loan\n",
    "* **BorrowerAPR** - The borrower's annual percentage rate (APR) for the loan\n",
    "* **BorrowerRate** - The borrower's interest rate for the loan\n",
    "* **ProsperRating** - The Prosper Rating assigned at the time of listing for listings after July 2009\n",
    "* **BorrowerState** - The two letter abbreviation of the state of the address of the borrower\n",
    "* **EmploymentStatus** - The employment status of the borrower\n",
    "* **IsBorrowerHomeowner** - Whether the borrower has a mortgage on their credit profile or have provided documentation proving homeownership\n",
    "* **OpenCreditLines** - The number of open credit lines on the credit profile\n",
    "* **TotalCreditLinespast7years** - The number of credit lines in the past seven years on the credit profile\n",
    "* **DebtToIncomeRatio** - The debt to income ratio of the borrower which is null if not available and capped at 10.01\n",
    "* **IncomeRange** - The income range of the borrower\n",
    "* **ListingCategory** - The category of the listing the borrower selected\n",
    "* **CreditRating** - The combined columns of CreditGrade and ProsperRating, filling in NC for null values"
   ]
  },
  {
   "cell_type": "markdown",
   "metadata": {},
   "source": [
    "<a id=\"univar\"></a>\n",
    "## Univariate Exploration"
   ]
  },
  {
   "cell_type": "code",
   "execution_count": 6,
   "metadata": {},
   "outputs": [],
   "source": [
    "# get base seaborn color to simplify color scheme of plots\n",
    "base = sns.color_palette()[0]"
   ]
  },
  {
   "cell_type": "markdown",
   "metadata": {},
   "source": [
    "### Discuss the distributions of your variables of interest. Were there any unusual points? Did you need to perform any transformations?\n",
    "\n",
    "> asdf\n",
    "\n",
    "### Of the features you investigated, were there any unusual distributions? Did you perform any operations on the data to tidy, adjust, or change the form of the data? If so, why did you do this?\n",
    "\n",
    "> asdf"
   ]
  },
  {
   "cell_type": "code",
   "execution_count": 7,
   "metadata": {},
   "outputs": [
    {
     "data": {
      "image/png": "[encoded data removed]",
      "text/plain": [
       "<Figure size 432x288 with 1 Axes>"
      ]
     },
     "metadata": {
      "needs_background": "light"
     },
     "output_type": "display_data"
    }
   ],
   "source": [
    "# bar chart for count of listings by CreditGrate\n",
    "sns.countplot(data = prosper, x = 'CreditGrade', color = base);"
   ]
  },
  {
   "cell_type": "markdown",
   "metadata": {},
   "source": [
    "> CreditGrade shows a peak in 'C' grade listings, so finding factors which correlate with a 'C' grade could provide insight into why this peak exists."
   ]
  },
  {
   "cell_type": "code",
   "execution_count": 8,
   "metadata": {},
   "outputs": [
    {
     "data": {
      "image/png": "[encoded data removed]",
      "text/plain": [
       "<Figure size 432x288 with 1 Axes>"
      ]
     },
     "metadata": {
      "needs_background": "light"
     },
     "output_type": "display_data"
    }
   ],
   "source": [
    "# bar chart of count of listings by ProsperRating\n",
    "sns.countplot(data = prosper, x = 'ProsperRating', color = base);"
   ]
  },
  {
   "cell_type": "markdown",
   "metadata": {},
   "source": [
    "> ProsperRating interestingly seems to have proportionally far fewer 'AA' ratings compared to CreditGrade, which actually had more 'AA' ratings than 'A' ratings. It's possible that different kinds of listings were pursued or accepted after the switch to ProsperRatings, so seeing if any factors are seen in different distributions between listings with a ProsperRating vs. CreditGrade could help in understanding this."
   ]
  },
  {
   "cell_type": "code",
   "execution_count": 11,
   "metadata": {},
   "outputs": [
    {
     "data": {
      "image/png": "[encoded data removed]",
      "text/plain": [
       "<Figure size 432x288 with 1 Axes>"
      ]
     },
     "metadata": {
      "needs_background": "light"
     },
     "output_type": "display_data"
    }
   ],
   "source": [
    "# bar chart of CreditRating, showing very similar results as ProsperRating\n",
    "sns.countplot(data = prosper, x = 'CreditRating', color = base);"
   ]
  },
  {
   "cell_type": "markdown",
   "metadata": {},
   "source": [
    "> The combined column CreditRating has a similar shape to ProsperRating, influenced by there being more listings with ProsperRatings in the dataset."
   ]
  },
  {
   "cell_type": "code",
   "execution_count": 10,
   "metadata": {},
   "outputs": [
    {
     "name": "stdout",
     "output_type": "stream",
     "text": [
      "(28953, 16) (84853, 16)\n"
     ]
    }
   ],
   "source": [
    "# create dataframes separated by whether they have CreditGrade or ProsperRating and confirm expected sizes\n",
    "credit_grade_keys = prosper.ListingKey[prosper['CreditGrade'].notnull()].tolist();\n",
    "prosper_rating_keys = prosper.ListingKey[prosper['ProsperRating'].notnull()].tolist();\n",
    "prosper_pre09 = prosper[prosper['ListingKey'].isin(credit_grade_keys)]\n",
    "prosper_post09 = prosper[prosper['ListingKey'].isin(prosper_rating_keys)]\n",
    "print(prosper_pre09.shape, prosper_post09.shape)"
   ]
  },
  {
   "cell_type": "code",
   "execution_count": 12,
   "metadata": {},
   "outputs": [
    {
     "data": {
      "image/png": "[encoded data removed]",
      "text/plain": [
       "<Figure size 432x288 with 1 Axes>"
      ]
     },
     "metadata": {
      "needs_background": "light"
     },
     "output_type": "display_data"
    }
   ],
   "source": [
    "# bar chart for count of listings by Term \n",
    "sns.countplot(data = prosper, x = 'Term');\n",
    "plt.xlabel('Term (months)');"
   ]
  },
  {
   "cell_type": "markdown",
   "metadata": {},
   "source": [
    "> The vast majority of listings are for 36 months, or three years. It could provide insight to look into what factors correlate with the other two terms, 12 and 60 months, to see if only a certain type of listing gets put into those categories. "
   ]
  },
  {
   "cell_type": "code",
   "execution_count": 13,
   "metadata": {},
   "outputs": [
    {
     "data": {
      "image/png": "[encoded data removed]",
      "text/plain": [
       "<Figure size 432x288 with 1 Axes>"
      ]
     },
     "metadata": {
      "needs_background": "light"
     },
     "output_type": "display_data"
    }
   ],
   "source": [
    "# bar chart for count of listings pre-2009 by Term\n",
    "sns.countplot(data = prosper_pre09, x = 'Term');\n",
    "plt.xlabel('Term (months)');"
   ]
  },
  {
   "cell_type": "code",
   "execution_count": 14,
   "metadata": {},
   "outputs": [
    {
     "data": {
      "image/png": "[encoded data removed]",
      "text/plain": [
       "<Figure size 432x288 with 1 Axes>"
      ]
     },
     "metadata": {
      "needs_background": "light"
     },
     "output_type": "display_data"
    }
   ],
   "source": [
    "# bar chart for count of listings post-2009 by Term\n",
    "sns.countplot(data = prosper_post09, x = 'Term');\n",
    "plt.xlabel('Term (months)');"
   ]
  },
  {
   "cell_type": "markdown",
   "metadata": {},
   "source": [
    "> All of the listings with CreditGrades were for 36 months, and it was only after the switch to ProsperRatings that the dataset included 12 and 60 month listings."
   ]
  },
  {
   "cell_type": "code",
   "execution_count": 15,
   "metadata": {},
   "outputs": [
    {
     "data": {
      "image/png": "[encoded data removed]",
      "text/plain": [
       "<Figure size 432x288 with 1 Axes>"
      ]
     },
     "metadata": {
      "needs_background": "light"
     },
     "output_type": "display_data"
    }
   ],
   "source": [
    "# bar plot of count of listings by LoanStatus ordered by count\n",
    "loan_stat_order = prosper['LoanStatus'].value_counts().index\n",
    "sns.countplot(data = prosper, y = 'LoanStatus',\n",
    "              color = base,\n",
    "              order = loan_stat_order);"
   ]
  },
  {
   "cell_type": "markdown",
   "metadata": {},
   "source": [
    "> The vast majority of listings are current or completed, through because of this it may be worth seeing the distribution of past due accounts only."
   ]
  },
  {
   "cell_type": "code",
   "execution_count": 16,
   "metadata": {},
   "outputs": [],
   "source": [
    "# create dataset with only Past Due statuses for LoanStatus\n",
    "prosper_pastdue = prosper[prosper['LoanStatus'].isin(['Past Due (1-15 days)', \n",
    "                                                      'Past Due (16-30 days)', \n",
    "                                                      'Past Due (31-60 days)', \n",
    "                                                      'Past Due (61-90 days)',\n",
    "                                                      'Past Due (91-120 days)',\n",
    "                                                      'Past Due (>120 days)'])]"
   ]
  },
  {
   "cell_type": "code",
   "execution_count": 17,
   "metadata": {},
   "outputs": [
    {
     "data": {
      "image/png": "[encoded data removed]",
      "text/plain": [
       "<Figure size 432x288 with 1 Axes>"
      ]
     },
     "metadata": {
      "needs_background": "light"
     },
     "output_type": "display_data"
    }
   ],
   "source": [
    "# bar chart of count of listings by LoanStatus for just past due loans ordered by past due categories\n",
    "pastdue_order = ['Past Due (1-15 days)',\n",
    "                 'Past Due (16-30 days)',\n",
    "                 'Past Due (31-60 days)',\n",
    "                 'Past Due (61-90 days)',\n",
    "                 'Past Due (91-120 days)',\n",
    "                 'Past Due (>120 days)']\n",
    "sns.countplot(data = prosper_pastdue, y = 'LoanStatus', color = base, order = pastdue_order);"
   ]
  },
  {
   "cell_type": "markdown",
   "metadata": {},
   "source": [
    "> The chart shows the majority of past due listings are within the 1-15 day period, but that there's also a relative peak at 31-60, with very few listings in the final, >120 days category."
   ]
  },
  {
   "cell_type": "code",
   "execution_count": 18,
   "metadata": {},
   "outputs": [
    {
     "data": {
      "image/png": "[encoded data removed]",
      "text/plain": [
       "<Figure size 432x288 with 1 Axes>"
      ]
     },
     "metadata": {
      "needs_background": "light"
     },
     "output_type": "display_data"
    }
   ],
   "source": [
    "# histogram of BorrowerAPR with set bins and xticks\n",
    "inc = 0.0125\n",
    "bins = np.arange(0, 0.51 + inc, inc)\n",
    "xlocs = [0, 0.05, 0.1, 0.15, 0.2, 0.25, 0.3, 0.35, 0.4, 0.45, 0.5]\n",
    "plt.hist(data = prosper, x = 'BorrowerAPR', bins = bins);\n",
    "plt.xticks(xlocs, xlocs);\n",
    "plt.xlabel('BorrowerAPR (%)');"
   ]
  },
  {
   "cell_type": "code",
   "execution_count": 19,
   "metadata": {},
   "outputs": [
    {
     "data": {
      "text/plain": [
       "0    0.35797\n",
       "dtype: float64"
      ]
     },
     "execution_count": 19,
     "metadata": {},
     "output_type": "execute_result"
    }
   ],
   "source": [
    "# finding exact value of peak of distribution\n",
    "prosper.BorrowerAPR.mode()"
   ]
  },
  {
   "cell_type": "markdown",
   "metadata": {},
   "source": [
    "> The Borrower APR graph shows a slightly right skewed distribution, except with several large spikes in values. The largest one being at 0.35797, based on the mode for the values. It would be worthwhile to see what other factors correlate with this APR."
   ]
  },
  {
   "cell_type": "code",
   "execution_count": 28,
   "metadata": {},
   "outputs": [
    {
     "name": "stdout",
     "output_type": "stream",
     "text": [
      "0    0.37453\n",
      "dtype: float64\n"
     ]
    },
    {
     "data": {
      "image/png": "[encoded data removed]",
      "text/plain": [
       "<Figure size 432x288 with 1 Axes>"
      ]
     },
     "metadata": {
      "needs_background": "light"
     },
     "output_type": "display_data"
    }
   ],
   "source": [
    "# mode for pre-2009 BorrowerAPR\n",
    "print(prosper_pre09.BorrowerAPR.mode())\n",
    "\n",
    "# histogram of pre-2009 BorrowerAPR with set bins and xticks\n",
    "inc = 0.0125\n",
    "bins = np.arange(0, 0.51 + inc, inc)\n",
    "xlocs = [0, 0.05, 0.1, 0.15, 0.2, 0.25, 0.3, 0.35, 0.4, 0.45, 0.5]\n",
    "plt.hist(data = prosper_pre09, x = 'BorrowerAPR', bins = bins);\n",
    "plt.xticks(xlocs, xlocs);\n",
    "plt.xlabel('BorrowerAPR (%)');"
   ]
  },
  {
   "cell_type": "markdown",
   "metadata": {},
   "source": [
    "> Interestingly this distribution has less dramatic peaks compared to the full dataset, though the mode at 0.37353 is relatively close to the overall mode."
   ]
  },
  {
   "cell_type": "code",
   "execution_count": 29,
   "metadata": {},
   "outputs": [
    {
     "name": "stdout",
     "output_type": "stream",
     "text": [
      "0    0.35797\n",
      "dtype: float64\n"
     ]
    },
    {
     "data": {
      "image/png": "[encoded data removed]",
      "text/plain": [
       "<Figure size 432x288 with 1 Axes>"
      ]
     },
     "metadata": {
      "needs_background": "light"
     },
     "output_type": "display_data"
    }
   ],
   "source": [
    "# mode for post-2009 BorrowerAPR\n",
    "print(prosper_post09.BorrowerAPR.mode())\n",
    "\n",
    "# histogram of post-2009 BorrowerAPR with set bins and xticks\n",
    "inc = 0.0125\n",
    "bins = np.arange(0, 0.51 + inc, inc)\n",
    "xlocs = [0, 0.05, 0.1, 0.15, 0.2, 0.25, 0.3, 0.35, 0.4, 0.45, 0.5]\n",
    "plt.hist(data = prosper_post09, x = 'BorrowerAPR', bins = bins);\n",
    "plt.xticks(xlocs, xlocs);\n",
    "plt.xlabel('BorrowerAPR (%)');"
   ]
  },
  {
   "cell_type": "markdown",
   "metadata": {},
   "source": [
    "> Here it's clear that the mode of 0.35797 became so common after the switch from CreditGrades to ProsperRatings. Looking into more factors that correlate with this shift could provide more insights into its cause."
   ]
  },
  {
   "cell_type": "code",
   "execution_count": 32,
   "metadata": {},
   "outputs": [
    {
     "name": "stdout",
     "output_type": "stream",
     "text": [
      "0    0.3177\n",
      "dtype: float64\n"
     ]
    },
    {
     "data": {
      "image/png": "[encoded data removed]",
      "text/plain": [
       "<Figure size 432x288 with 1 Axes>"
      ]
     },
     "metadata": {
      "needs_background": "light"
     },
     "output_type": "display_data"
    }
   ],
   "source": [
    "# mode for BorrowerRate\n",
    "print(prosper.BorrowerRate.mode())\n",
    "\n",
    "# histogram of Borrower Rate with set bins and xticks\n",
    "inc = 0.0125\n",
    "bins = np.arange(0, 0.5 + inc, inc)\n",
    "xlocs = [0, 0.05, 0.1, 0.15, 0.2, 0.25, 0.3, 0.35, 0.4, 0.45, 0.5]\n",
    "plt.hist(data = prosper, x = 'BorrowerRate', bins = bins);\n",
    "plt.xticks(xlocs, xlocs);\n",
    "plt.xlabel('BorrowerRate (%)');"
   ]
  },
  {
   "cell_type": "markdown",
   "metadata": {},
   "source": [
    "> For BorrowerRate there is a relatively similar looking distribution to the BorrowerAPR, where there's a right skewed distribution with a very large peak to the right of mean. The mode for this distribution is the peak at 0.3177."
   ]
  },
  {
   "cell_type": "code",
   "execution_count": 33,
   "metadata": {},
   "outputs": [
    {
     "name": "stdout",
     "output_type": "stream",
     "text": [
      "0    0.29\n",
      "dtype: float64\n"
     ]
    },
    {
     "data": {
      "image/png": "[encoded data removed]",
      "text/plain": [
       "<Figure size 432x288 with 1 Axes>"
      ]
     },
     "metadata": {
      "needs_background": "light"
     },
     "output_type": "display_data"
    }
   ],
   "source": [
    "# mode for BorrowerRate\n",
    "print(prosper_pre09.BorrowerRate.mode())\n",
    "\n",
    "# histogram of Borrower Rate with set bins and xticks\n",
    "inc = 0.0125\n",
    "bins = np.arange(0, 0.5 + inc, inc)\n",
    "xlocs = [0, 0.05, 0.1, 0.15, 0.2, 0.25, 0.3, 0.35, 0.4, 0.45, 0.5]\n",
    "plt.hist(data = prosper_pre09, x = 'BorrowerRate', bins = bins);\n",
    "plt.xticks(xlocs, xlocs);\n",
    "plt.xlabel('BorrowerRate (%)');"
   ]
  },
  {
   "cell_type": "code",
   "execution_count": 34,
   "metadata": {},
   "outputs": [
    {
     "name": "stdout",
     "output_type": "stream",
     "text": [
      "0    0.3177\n",
      "dtype: float64\n"
     ]
    },
    {
     "data": {
      "image/png": "[encoded data removed]",
      "text/plain": [
       "<Figure size 432x288 with 1 Axes>"
      ]
     },
     "metadata": {
      "needs_background": "light"
     },
     "output_type": "display_data"
    }
   ],
   "source": [
    "# mode for BorrowerRate\n",
    "print(prosper_post09.BorrowerRate.mode())\n",
    "\n",
    "# histogram of Borrower Rate with set bins and xticks\n",
    "inc = 0.0125\n",
    "bins = np.arange(0, 0.5 + inc, inc)\n",
    "xlocs = [0, 0.05, 0.1, 0.15, 0.2, 0.25, 0.3, 0.35, 0.4, 0.45, 0.5]\n",
    "plt.hist(data = prosper_post09, x = 'BorrowerRate', bins = bins);\n",
    "plt.xticks(xlocs, xlocs);\n",
    "plt.xlabel('BorrowerRate (%)');"
   ]
  },
  {
   "cell_type": "markdown",
   "metadata": {},
   "source": [
    "> Again, similar to the results when separating the pre and post-2009 datasets for BorrowerAPR, the mode for BorrowerRate was only established after the switch to ProsperRatings."
   ]
  },
  {
   "cell_type": "code",
   "execution_count": 35,
   "metadata": {},
   "outputs": [
    {
     "data": {
      "image/png": "[encoded data removed]",
      "text/plain": [
       "<Figure size 720x1080 with 1 Axes>"
      ]
     },
     "metadata": {
      "needs_background": "light"
     },
     "output_type": "display_data"
    }
   ],
   "source": [
    "# bar chart of ordered listing count by BorrowerState with adjusted figsize\n",
    "state_order = prosper['BorrowerState'].value_counts().index\n",
    "plt.figure(figsize = (10,15))\n",
    "sns.countplot(data = prosper, y = 'BorrowerState', color = base, order = state_order);"
   ]
  },
  {
   "cell_type": "markdown",
   "metadata": {},
   "source": [
    "> The vast majority of listings are from California, with the next highest being from Texas, New York, and Florida. Although it's not within the scope of this project, it could be useful to adjust these values by state population size, or finding some way of taking into account where the company Prosper is located."
   ]
  },
  {
   "cell_type": "code",
   "execution_count": 36,
   "metadata": {},
   "outputs": [
    {
     "data": {
      "image/png": "[encoded data removed]",
      "text/plain": [
       "<Figure size 432x288 with 1 Axes>"
      ]
     },
     "metadata": {
      "needs_background": "light"
     },
     "output_type": "display_data"
    }
   ],
   "source": [
    "# bar chart of ordered listing count by EmploymentStatus\n",
    "employment_order = prosper['EmploymentStatus'].value_counts().index\n",
    "sns.countplot(data = prosper, y = 'EmploymentStatus', color = base, order = employment_order);"
   ]
  },
  {
   "cell_type": "markdown",
   "metadata": {},
   "source": [
    "> The bar chart shows unsurprisingly that the majority of listings are for people who are employed. Looking into any correlations between other variables and a person being self-employed, part-time, not employed, or retired could provide useful information."
   ]
  },
  {
   "cell_type": "code",
   "execution_count": 38,
   "metadata": {},
   "outputs": [
    {
     "data": {
      "image/png": "[encoded data removed]",
      "text/plain": [
       "<Figure size 432x288 with 1 Axes>"
      ]
     },
     "metadata": {
      "needs_background": "light"
     },
     "output_type": "display_data"
    }
   ],
   "source": [
    "# bar chart of listing count by IsBorrowerHomeowner\n",
    "sns.countplot(data = prosper, x = 'IsBorrowerHomeowner', color = base);"
   ]
  },
  {
   "cell_type": "markdown",
   "metadata": {},
   "source": [
    "> Interestingly, the split between whether a listing is from a homeowner or not is extremely close when displayed visually, though with more homeowners than non-homeowners. Seeing if there are any factors which trend with one or the other could provide useful information for this analysis."
   ]
  },
  {
   "cell_type": "code",
   "execution_count": 41,
   "metadata": {},
   "outputs": [
    {
     "data": {
      "image/png": "[encoded data removed]",
      "text/plain": [
       "<Figure size 432x288 with 1 Axes>"
      ]
     },
     "metadata": {
      "needs_background": "light"
     },
     "output_type": "display_data"
    }
   ],
   "source": [
    "# bar chart of pre-2009 listing count by IsBorrowerHomeowner \n",
    "sns.countplot(data = prosper_pre09, x = 'IsBorrowerHomeowner', color = base);"
   ]
  },
  {
   "cell_type": "code",
   "execution_count": 42,
   "metadata": {},
   "outputs": [
    {
     "data": {
      "image/png": "[encoded data removed]",
      "text/plain": [
       "<Figure size 432x288 with 1 Axes>"
      ]
     },
     "metadata": {
      "needs_background": "light"
     },
     "output_type": "display_data"
    }
   ],
   "source": [
    "# bar chart of post-2009 listing count by IsBorrowerHomeowner\n",
    "sns.countplot(data = prosper_post09, x = 'IsBorrowerHomeowner', color = base);"
   ]
  },
  {
   "cell_type": "markdown",
   "metadata": {},
   "source": [
    "> In these two bar charts it becomes apparant that there was also a shift from more listings being made by non-homeowner to homeowner around the switch from CreditGrades to ProsperRatings."
   ]
  },
  {
   "cell_type": "code",
   "execution_count": 43,
   "metadata": {},
   "outputs": [
    {
     "data": {
      "image/png": "[encoded data removed]",
      "text/plain": [
       "<Figure size 432x288 with 1 Axes>"
      ]
     },
     "metadata": {
      "needs_background": "light"
     },
     "output_type": "display_data"
    }
   ],
   "source": [
    "# histogram of OpenCreditLines with set bins and xticks\n",
    "inc = 1\n",
    "bins = np.arange(0, 54 + inc, inc)\n",
    "xlocs = [0, 5, 10, 15, 20, 25, 30, 35, 40, 45, 50, 55]\n",
    "plt.hist(data = prosper, x = 'OpenCreditLines', bins = bins);\n",
    "plt.xticks(xlocs, xlocs);\n",
    "plt.xlabel('Open Credit Lines');"
   ]
  },
  {
   "cell_type": "markdown",
   "metadata": {},
   "source": [
    "> The histogram of OpenCreditLines shows an extremely smooth, slightly right-skewed distribution with a peak at seven. It would be interesting to see what other factors affect this distribution."
   ]
  },
  {
   "cell_type": "code",
   "execution_count": 46,
   "metadata": {},
   "outputs": [
    {
     "data": {
      "image/png": "[encoded data removed]",
      "text/plain": [
       "<Figure size 432x288 with 1 Axes>"
      ]
     },
     "metadata": {
      "needs_background": "light"
     },
     "output_type": "display_data"
    }
   ],
   "source": [
    "# histogram of TotalCreditLinespast7years with set bins and xticks\n",
    "inc = 2\n",
    "bins = np.arange(2, 136 + inc, inc)\n",
    "xlocs = [0, 10, 20, 30, 40, 50, 60, 70, 80, 90, 100, 110, 120, 130, 140]\n",
    "plt.hist(data = prosper, x = 'TotalCreditLinespast7years', bins = bins);\n",
    "plt.xticks(xlocs, xlocs);\n",
    "plt.xlabel('Seven Year Credit Line Total');"
   ]
  },
  {
   "cell_type": "markdown",
   "metadata": {},
   "source": [
    "> Similar to the OpenCreditLines histogram, the TotalCreditLinespast7years shows a very smooth, right-skewed distribution with a peak at 21."
   ]
  },
  {
   "cell_type": "code",
   "execution_count": 51,
   "metadata": {},
   "outputs": [
    {
     "data": {
      "image/png": "[encoded data removed]",
      "text/plain": [
       "<Figure size 432x288 with 1 Axes>"
      ]
     },
     "metadata": {
      "needs_background": "light"
     },
     "output_type": "display_data"
    }
   ],
   "source": [
    "# histogram of DebtToIncomeRatio\n",
    "plt.hist(data = prosper, x = 'DebtToIncomeRatio', color = base);"
   ]
  },
  {
   "cell_type": "markdown",
   "metadata": {},
   "source": [
    "> This histogram for DebtToIncomeRatio shows nearly all values are between zero and one, but there are also some values around 10 which are throwing off the visualization, so it would be worth trying a log scaling to better view this data."
   ]
  },
  {
   "cell_type": "code",
   "execution_count": 56,
   "metadata": {},
   "outputs": [
    {
     "data": {
      "image/png": "[encoded data removed]",
      "text/plain": [
       "<Figure size 432x288 with 1 Axes>"
      ]
     },
     "metadata": {
      "needs_background": "light"
     },
     "output_type": "display_data"
    }
   ],
   "source": [
    "# histogram of DebtToIncomeRatio with Log scaling and set bins and xticks\n",
    "inc = 0.05\n",
    "bins = 10 ** np.arange(0, 1.000434 + inc, inc)\n",
    "xlocs = [1, 1.75, 3, 5.5, 10]\n",
    "labels = ['{}'.format(v) for v in xlocs]\n",
    "plt.hist(data = prosper, x = 'DebtToIncomeRatio', color = base, bins = bins);\n",
    "plt.xscale('log');\n",
    "plt.xticks(xlocs, labels);\n",
    "plt.xlabel('Debt to Income Ratio');"
   ]
  },
  {
   "cell_type": "markdown",
   "metadata": {},
   "source": [
    "> This version of the DebtToIncomeRatio histogram with log scaling shows the right skewed distribution better, and better illustrates the peak at 10.1 which is caused by the dataset capping DebtToIncomeRatio values at 10.1."
   ]
  },
  {
   "cell_type": "code",
   "execution_count": 64,
   "metadata": {},
   "outputs": [
    {
     "data": {
      "image/png": "[encoded data removed]",
      "text/plain": [
       "<Figure size 432x288 with 1 Axes>"
      ]
     },
     "metadata": {
      "needs_background": "light"
     },
     "output_type": "display_data"
    }
   ],
   "source": [
    "inc = 0.05\n",
    "bins = 10 ** np.arange(0, 1.000434 + inc, inc)\n",
    "xlocs = [1, 1.75, 3, 5.5, 10]\n",
    "labels = ['{}'.format(v) for v in xlocs]\n",
    "plt.hist(data = prosper_pre09, x = 'DebtToIncomeRatio', color = base, bins = bins);\n",
    "plt.xscale('log');\n",
    "plt.xticks(xlocs, labels);\n",
    "plt.xlabel('Debt to Income Ratio');"
   ]
  },
  {
   "cell_type": "code",
   "execution_count": 69,
   "metadata": {},
   "outputs": [
    {
     "data": {
      "image/png": "[encoded data removed]",
      "text/plain": [
       "<Figure size 432x288 with 1 Axes>"
      ]
     },
     "metadata": {
      "needs_background": "light"
     },
     "output_type": "display_data"
    }
   ],
   "source": [
    "# bar chart of IncomeRange\n",
    "sns.countplot(data = prosper, y = 'IncomeRange', color = base);"
   ]
  },
  {
   "cell_type": "markdown",
   "metadata": {},
   "source": [
    "> The bar chart shows the most listings are for people in the \\$25,000-49,999 range. There is also a small increase at the highest range, but that may be due to it being the cap and so there's a larger range of incomes being put into that one category. Seeing how IncomeRange correlates with other factors should provide some insights into the dataset."
   ]
  },
  {
   "cell_type": "code",
   "execution_count": null,
   "metadata": {},
   "outputs": [],
   "source": [
    "# bar chart of ListingCategory ordered by count\n",
    "# interestingly shows the vast majority of listings are due to Debt Consolidation\n",
    "listing_order = prosper['ListingCategory'].value_counts().index\n",
    "sns.countplot(data = prosper, y = 'ListingCategory', color = base, order = listing_order);"
   ]
  },
  {
   "cell_type": "markdown",
   "metadata": {},
   "source": [
    ">"
   ]
  },
  {
   "cell_type": "markdown",
   "metadata": {},
   "source": [
    "* **ListingKey** - ID - full\n",
    "* **CreditGrade** - ordered categorical (8) - missing 84,984\n",
    "* **Term** - numeric discrete (3) - full\n",
    "* **LoanStatus** - categorical (12) - full\n",
    "* **BorrowerAPR** - numeric continuous - missing 25\n",
    "* **BorrowerRate** - numeric continuous - full\n",
    "* **ProsperRating** - ordered categorical (7) - missing 29,084\n",
    "* **BorrowerState** - categorical (51) - missing 5,515\n",
    "* **EmploymentStatus** - categorical (8) - missing 2,255 \n",
    "* **IsBorrowerHomeowner** - boolean - full\n",
    "* **OpenCreditLines** - numeric discrete (52) - missing 7,604\n",
    "* **TotalCreditLinespast7years** - numeric discrete (118) - missing 697\n",
    "* **DebtToIncomeRatio** - numeric continuous - missing 8,554\n",
    "* **IncomeRange** - ordered categorical (8) - full\n",
    "* **ListingCategory** - categorical (21) - full\n",
    "* **CreditRating** - ordered categorical (8) - full"
   ]
  },
  {
   "cell_type": "markdown",
   "metadata": {},
   "source": [
    "<a id=\"bivar\"></a>\n",
    "## Bivariate Exploration"
   ]
  },
  {
   "cell_type": "code",
   "execution_count": null,
   "metadata": {},
   "outputs": [],
   "source": [
    "# In this section, investigate relationships between pairs of variables in your data\n",
    "# Make sure the variables that you cover here have been introduced in some fashion in the previous section (univariate)"
   ]
  },
  {
   "cell_type": "code",
   "execution_count": null,
   "metadata": {},
   "outputs": [],
   "source": []
  },
  {
   "cell_type": "code",
   "execution_count": null,
   "metadata": {},
   "outputs": [],
   "source": []
  },
  {
   "cell_type": "code",
   "execution_count": null,
   "metadata": {},
   "outputs": [],
   "source": []
  },
  {
   "cell_type": "markdown",
   "metadata": {},
   "source": [
    "### Talk about some of the relationships you observed in this part of the investigation. How did the features of interest vary with other features in the dataset?\n",
    "\n",
    "> asdf\n",
    "\n",
    "### Did you observe any interesting relationships between the other features (not the main features of interest)?\n",
    "\n",
    "> asdf"
   ]
  },
  {
   "cell_type": "markdown",
   "metadata": {},
   "source": [
    "<a id=\"multivar\"></a>\n",
    "## Multivariate Exploration"
   ]
  },
  {
   "cell_type": "code",
   "execution_count": null,
   "metadata": {},
   "outputs": [],
   "source": [
    "# create plots of three or more variables to investigate your data further.\n",
    "# make sure your investigations are justified, and follow from your work in the previous sections."
   ]
  },
  {
   "cell_type": "code",
   "execution_count": null,
   "metadata": {},
   "outputs": [],
   "source": []
  },
  {
   "cell_type": "code",
   "execution_count": null,
   "metadata": {},
   "outputs": [],
   "source": []
  },
  {
   "cell_type": "code",
   "execution_count": null,
   "metadata": {},
   "outputs": [],
   "source": []
  },
  {
   "cell_type": "markdown",
   "metadata": {},
   "source": [
    "### Talk about some of the relationships you observed in this part of the investigation. Were there features that strengthened each other in terms of looking at your features of interest?\n",
    "\n",
    "> asdf\n",
    "\n",
    "### Were there any interesting or surprising interactions between features?\n",
    "\n",
    "> asdf"
   ]
  },
  {
   "cell_type": "markdown",
   "metadata": {},
   "source": [
    "> At the end of your report, make sure that you export the notebook as an\n",
    "html file from the `File > Download as... > HTML` menu. Make sure you keep\n",
    "track of where the exported file goes, so you can put it in the same folder\n",
    "as this notebook for project submission. Also, make sure you remove all of\n",
    "the quote-formatted guide notes like this one before you finish your report! XXXXXXX"
   ]
  },
  {
   "cell_type": "markdown",
   "metadata": {},
   "source": [
    "there was an error in creating the CreditRatings column where certain values from the ProsperRatings column couldn't be indexed properly and so were put into CreditRatings as ''. This occured at most about 1,000 times, and likely fewer as there are some rows which had neither a CreditGrade nor Prosper Rating."
   ]
  }
 ],
 "metadata": {
  "kernelspec": {
   "display_name": "Python 3",
   "language": "python",
   "name": "python3"
  },
  "language_info": {
   "codemirror_mode": {
    "name": "ipython",
    "version": 3
   },
   "file_extension": ".py",
   "mimetype": "text/x-python",
   "name": "python",
   "nbconvert_exporter": "python",
   "pygments_lexer": "ipython3",
   "version": "3.7.3"
  }
 },
 "nbformat": 4,
 "nbformat_minor": 2
}
